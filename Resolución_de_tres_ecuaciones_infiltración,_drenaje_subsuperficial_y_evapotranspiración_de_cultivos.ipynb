{
  "nbformat": 4,
  "nbformat_minor": 0,
  "metadata": {
    "colab": {
      "provenance": [],
      "authorship_tag": "ABX9TyPMqDSqQsfNdMSjPHiunbKs",
      "include_colab_link": true
    },
    "kernelspec": {
      "name": "python3",
      "display_name": "Python 3"
    },
    "language_info": {
      "name": "python"
    }
  },
  "cells": [
    {
      "cell_type": "markdown",
      "metadata": {
        "id": "view-in-github",
        "colab_type": "text"
      },
      "source": [
        "<a href=\"https://colab.research.google.com/github/Dieg0sal/Resoluci-n-de-tres-ecuaciones-infiltraci-n-drenaje-subsuperficial-y-evapotranspiraci-n-de-cultivos-/blob/Ecuaci%C3%B3n-de-Evapotranspiraci%C3%B3n-de-Cultivos/Resoluci%C3%B3n_de_tres_ecuaciones_infiltraci%C3%B3n%2C_drenaje_subsuperficial_y_evapotranspiraci%C3%B3n_de_cultivos.ipynb\" target=\"_parent\"><img src=\"https://colab.research.google.com/assets/colab-badge.svg\" alt=\"Open In Colab\"/></a>"
      ]
    },
    {
      "cell_type": "code",
      "execution_count": null,
      "metadata": {
        "id": "9UnHbkPGfpFy"
      },
      "outputs": [],
      "source": []
    },
    {
      "cell_type": "markdown",
      "source": [
        "**Resolución de tres ecuaciones: infiltración, drenaje subsuperficial y evapotranspiración de cultivos**\n",
        "\n",
        "**Introducción**\n",
        "\n",
        "Bienvenidos a nuestro cuaderno de Google Colab, donde resolveremos tres ecuaciones relacionadas con la gestión del agua: la ecuación de infiltración de Horton, la ecuación de drenaje subterráneo y la ecuación de evapotranspiración de cultivos. Nuestro grupo está formado por:\n",
        "1. Bernny Castillo\n",
        "2. Diego Salgado\n",
        "3. María Guerra\n",
        "4. Yesica Casillo\n",
        "5. Kaleth Echeverría\n",
        "\n",
        "**Ecuación de Infiltración de Horton**\n",
        "\n",
        "**Ecuación**\n",
        "\n",
        "$I(t)$ = $f_c$ + $(f_0 - f_c)e^{-kt}$\n",
        "\n",
        "**Explicación teórica**\n",
        "\n",
        "La ecuación de infiltración de Horton modela la tasa de infiltración de agua en el suelo durante el riego. La ecuación tiene en cuenta la tasa de infiltración constante $( f_c)$, la tasa de infiltración inicial $( f_0)$, la constante de decaimiento $( k)$ e $I(t)$ es la tasa de infiltración en el tiempo.\n"
      ],
      "metadata": {
        "id": "mGlEx7Xpfpwu"
      }
    },
    {
      "cell_type": "code",
      "source": [
        "# prompt: por favor crea código de Python donde utilices \"ecuación de infiltración de Horton\", no utilices funciones del usuario\n",
        "\n",
        "# Definir los parámetros de la ecuación de infiltración de Horton\n",
        "f_c = 0.5  # Tasa de infiltración constante (cm/h)\n",
        "f_0 = 2.0  # Tasa de infiltración inicial (cm/h)\n",
        "k = 0.5   # Constante de decaimiento (1/h)\n",
        "\n",
        "# Crear una lista de tiempos para calcular la tasa de infiltración\n",
        "tiempo = [0, 1, 2, 3, 4, 5, 6, 7, 8, 9, 10]  # Tiempo en horas\n",
        "\n",
        "# Calcular la tasa de infiltración para cada tiempo\n",
        "tasa_infiltracion = []\n",
        "for t in tiempo:\n",
        "  I_t = f_c + (f_0 - f_c) * (2.71828 ** (-k * t))\n",
        "  tasa_infiltracion.append(I_t)\n",
        "\n",
        "# Imprimir los resultados\n",
        "print(\"Tiempo (h) | Tasa de Infiltración (cm/h)\")\n",
        "print(\"-------------------------------------\")\n",
        "for i in range(len(tiempo)):\n",
        "  print(f\"{tiempo[i]:<10} | {tasa_infiltracion[i]:<20.2f}\")\n"
      ],
      "metadata": {
        "colab": {
          "base_uri": "https://localhost:8080/"
        },
        "id": "tnifjIT1f61Z",
        "outputId": "1a61c468-b5f2-47a8-ecf1-7f0b2dd3e96d"
      },
      "execution_count": 1,
      "outputs": [
        {
          "output_type": "stream",
          "name": "stdout",
          "text": [
            "Tiempo (h) | Tasa de Infiltración (cm/h)\n",
            "-------------------------------------\n",
            "0          | 2.00                \n",
            "1          | 1.41                \n",
            "2          | 1.05                \n",
            "3          | 0.83                \n",
            "4          | 0.70                \n",
            "5          | 0.62                \n",
            "6          | 0.57                \n",
            "7          | 0.55                \n",
            "8          | 0.53                \n",
            "9          | 0.52                \n",
            "10         | 0.51                \n"
          ]
        }
      ]
    },
    {
      "cell_type": "code",
      "source": [
        "import numpy as np\n",
        "from scipy.optimize import fsolve\n",
        "\n",
        "def horton_infiltration(fc, f0, k, t):\n",
        "    return fc + (f0 - fc) * np.exp(-k * t)\n",
        "\n",
        "# Example usage:\n",
        "fc = 0.1  # constant infiltration rate\n",
        "f0 = 1.0  # initial infiltration rate\n",
        "k = 0.5  # decay constant\n",
        "t = np.linspace(0, 10, 100)  # time array\n",
        "\n",
        "I = horton_infiltration(fc, f0, k, t)\n",
        "print(I)\n"
      ],
      "metadata": {
        "colab": {
          "base_uri": "https://localhost:8080/"
        },
        "id": "TmK17LFUgT3f",
        "outputId": "afa58875-4b0c-4240-e1cc-4b9f1f04667b"
      },
      "execution_count": 2,
      "outputs": [
        {
          "output_type": "stream",
          "name": "stdout",
          "text": [
            "[1.         0.95567421 0.91353151 0.87346437 0.83537058 0.79915294\n",
            " 0.76471904 0.73198105 0.70085543 0.67126278 0.64312759 0.61637808\n",
            " 0.59094601 0.56676649 0.54377783 0.52192139 0.50114139 0.48138482\n",
            " 0.46260129 0.44474286 0.42776397 0.41162131 0.39627369 0.38168195\n",
            " 0.36780887 0.35461905 0.34207884 0.33015624 0.31882085 0.30804373\n",
            " 0.29779739 0.2880557  0.27879379 0.26998804 0.26161598 0.25365625\n",
            " 0.24608855 0.23889356 0.23205293 0.22554921 0.2193658  0.21348693\n",
            " 0.2078976  0.20258355 0.19753122 0.19272772 0.1881608  0.18381881\n",
            " 0.17969066 0.17576582 0.17203429 0.16848654 0.16511352 0.16190662\n",
            " 0.15885766 0.15595887 0.15320285 0.15058256 0.14809133 0.14572279\n",
            " 0.1434709  0.14132992 0.13929438 0.1373591  0.13551913 0.13376979\n",
            " 0.13210659 0.13052532 0.12902192 0.12759256 0.12623361 0.12494158\n",
            " 0.12371318 0.12254529 0.12143491 0.12037922 0.11937553 0.11842127\n",
            " 0.117514   0.11665142 0.11583133 0.11505162 0.11431032 0.11360552\n",
            " 0.11293544 0.11229835 0.11169265 0.11111678 0.11056927 0.11004872\n",
            " 0.10955381 0.10908328 0.10863592 0.10821059 0.10780621 0.10742175\n",
            " 0.10705622 0.1067087  0.10637829 0.10606415]\n"
          ]
        }
      ]
    },
    {
      "cell_type": "markdown",
      "source": [
        "**Ecuación de Drenaje Subsuperficial**\n",
        "\n",
        "**Ecuación**\n",
        "\n",
        "$Q$ = $K $* $(H_1 - H_2) * A$\n",
        "\n",
        "**Explicación teórica**\n",
        "\n",
        "La ecuación de drenaje subsuperficial modela el flujo de agua a través del suelo y ayuda a predecir el nivel del nivel freático. La ecuación tiene en cuenta la conductividad hidráulica del suelo $( K)$, los niveles de agua en dos puntos $( H_1 y H_2)$, el área de la sección transversal $( A)$ y $(Q)$ es el flujo de agua drenada.\n"
      ],
      "metadata": {
        "id": "l3tpACCTipkN"
      }
    },
    {
      "cell_type": "code",
      "source": [
        "# prompt: por favor crea código de Python donde utilices \"ecuación de infiltración de drenaje subsuperficial\", no utilices funciones del usuario\n",
        "\n",
        "import numpy as np\n",
        "\n",
        "# Parámetros de la ecuación de drenaje subsuperficial\n",
        "K = 0.5  # Conductividad hidráulica del suelo (cm/h)\n",
        "H1 = 10  # Nivel de agua en el punto 1 (cm)\n",
        "H2 = 5   # Nivel de agua en el punto 2 (cm)\n",
        "A = 100  # Área de la sección transversal (cm^2)\n",
        "\n",
        "# Calcular el flujo de agua drenada\n",
        "Q = K * (H1 - H2) * A\n",
        "\n",
        "# Imprimir el resultado\n",
        "print(\"Flujo de agua drenada (cm^3/h):\", Q)\n"
      ],
      "metadata": {
        "colab": {
          "base_uri": "https://localhost:8080/"
        },
        "id": "zIDawsHNi1l8",
        "outputId": "44ebaef0-d134-4a67-9a27-a11ae73a4bb6"
      },
      "execution_count": 3,
      "outputs": [
        {
          "output_type": "stream",
          "name": "stdout",
          "text": [
            "Flujo de agua drenada (cm^3/h): 250.0\n"
          ]
        }
      ]
    },
    {
      "cell_type": "code",
      "source": [
        "import numpy as np\n",
        "\n",
        "def drenaje_subsurface(K, H1, H2, A):\n",
        "    return K * (H1 - H2) * A\n",
        "\n",
        "# Example usage:\n",
        "K = 0.01  # hydraulic conductivity\n",
        "H1 = 10.0  # water level at point 1\n",
        "H2 = 5.0  # water level at point 2\n",
        "A = 100.0  # cross-sectional area\n",
        "\n",
        "Q = drenaje_subsurface(K, H1, H2, A)\n",
        "print(Q)\n"
      ],
      "metadata": {
        "colab": {
          "base_uri": "https://localhost:8080/"
        },
        "id": "SrsLoVh6jC-T",
        "outputId": "a7591062-e3e6-4eea-e8cb-3b00214ac352"
      },
      "execution_count": 4,
      "outputs": [
        {
          "output_type": "stream",
          "name": "stdout",
          "text": [
            "5.0\n"
          ]
        }
      ]
    },
    {
      "cell_type": "markdown",
      "source": [
        "**Ecuación de Evapotranspiración de Cultivos**\n",
        "\n",
        "**Ecuación**\n",
        "\n",
        "$ET_c$ = $K_c* ET_o$\n",
        "\n",
        "**Explicación teórica**\n",
        "\n",
        "La ecuación de evapotranspiración de cultivos calcula la cantidad de agua que necesita un cultivo. La ecuación tiene en cuenta el coeficiente del cultivo $( K_c)$, la evapotranspiración de referencia $( ET_o)$ y $(ET_C)$ es la evotranspiración de cultivos.\n"
      ],
      "metadata": {
        "id": "GVrnqkrGjudp"
      }
    },
    {
      "cell_type": "code",
      "source": [
        "# prompt: por favor crea código de Python donde utilices \"ecuación de Evapotranspiración de cultivos\", no utilices funciones del usuario\n",
        "\n",
        "# Parámetros de la ecuación de evapotranspiración de cultivos\n",
        "Kc = 0.8  # Coeficiente del cultivo\n",
        "ETo = 5   # Evapotranspiración de referencia (mm/día)\n",
        "\n",
        "# Calcular la evapotranspiración de cultivos\n",
        "ETc = Kc * ETo\n",
        "\n",
        "# Imprimir el resultado\n",
        "print(\"Evapotranspiración de cultivos (mm/día):\", ETc)\n"
      ],
      "metadata": {
        "colab": {
          "base_uri": "https://localhost:8080/"
        },
        "id": "OBgAKfngjzcf",
        "outputId": "a0adc4be-2479-43c2-cef3-3445d56907a9"
      },
      "execution_count": 5,
      "outputs": [
        {
          "output_type": "stream",
          "name": "stdout",
          "text": [
            "Evapotranspiración de cultivos (mm/día): 4.0\n"
          ]
        }
      ]
    },
    {
      "cell_type": "code",
      "source": [
        "import numpy as np\n",
        "\n",
        "def evapotranspiration_cultivos(Kc, ETo):\n",
        "    return Kc * ETo\n",
        "\n",
        "# Example usage:\n",
        "Kc = 0.5  # crop coefficient\n",
        "ETo = 10.0  # reference evapotranspiration\n",
        "\n",
        "ETc = evapotranspiration_cultivos(Kc, ETo)\n",
        "print(ETc)\n"
      ],
      "metadata": {
        "colab": {
          "base_uri": "https://localhost:8080/"
        },
        "id": "EIfbjLqVkBRW",
        "outputId": "a781db5f-48f7-44b4-90c4-34bb90a0d210"
      },
      "execution_count": 6,
      "outputs": [
        {
          "output_type": "stream",
          "name": "stdout",
          "text": [
            "5.0\n"
          ]
        }
      ]
    }
  ]
}