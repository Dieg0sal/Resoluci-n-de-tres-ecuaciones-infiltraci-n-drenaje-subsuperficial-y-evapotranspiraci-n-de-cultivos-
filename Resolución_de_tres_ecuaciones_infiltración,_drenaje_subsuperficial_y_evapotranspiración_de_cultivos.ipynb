{
  "nbformat": 4,
  "nbformat_minor": 0,
  "metadata": {
    "colab": {
      "provenance": [],
      "authorship_tag": "ABX9TyOYfAbKLjsm0WH6uRUIn7op",
      "include_colab_link": true
    },
    "kernelspec": {
      "name": "python3",
      "display_name": "Python 3"
    },
    "language_info": {
      "name": "python"
    }
  },
  "cells": [
    {
      "cell_type": "markdown",
      "metadata": {
        "id": "view-in-github",
        "colab_type": "text"
      },
      "source": [
        "<a href=\"https://colab.research.google.com/github/Dieg0sal/Resoluci-n-de-tres-ecuaciones-infiltraci-n-drenaje-subsuperficial-y-evapotranspiraci-n-de-cultivos-/blob/Ecuaci%C3%B3n-de-Infiltraci%C3%B3n-de-Horton/Resoluci%C3%B3n_de_tres_ecuaciones_infiltraci%C3%B3n%2C_drenaje_subsuperficial_y_evapotranspiraci%C3%B3n_de_cultivos.ipynb\" target=\"_parent\"><img src=\"https://colab.research.google.com/assets/colab-badge.svg\" alt=\"Open In Colab\"/></a>"
      ]
    },
    {
      "cell_type": "code",
      "execution_count": null,
      "metadata": {
        "id": "9UnHbkPGfpFy"
      },
      "outputs": [],
      "source": []
    },
    {
      "cell_type": "markdown",
      "source": [
        "**Resolución de tres ecuaciones: infiltración, drenaje subsuperficial y evapotranspiración de cultivos**\n",
        "\n",
        "**Introducción**\n",
        "\n",
        "Bienvenidos a nuestro cuaderno de Google Colab, donde resolveremos tres ecuaciones relacionadas con la gestión del agua: la ecuación de infiltración de Horton, la ecuación de drenaje subterráneo y la ecuación de evapotranspiración de cultivos. Nuestro grupo está formado por:\n",
        "1. Bernny Castillo\n",
        "2. Diego Salgado\n",
        "3. María Guerra\n",
        "4. Yesica Casillo\n",
        "5. Kaleth Echeverría\n",
        "\n",
        "**Ecuación de Infiltración de Horton**\n",
        "\n",
        "**Ecuación**\n",
        "\n",
        "$I(t)$ = $f_c$ + $(f_0 - f_c)e^{-kt}$\n",
        "\n",
        "**Explicación teórica**\n",
        "\n",
        "La ecuación de infiltración de Horton modela la tasa de infiltración de agua en el suelo durante el riego. La ecuación tiene en cuenta la tasa de infiltración constante $( f_c)$, la tasa de infiltración inicial $( f_0)$, la constante de decaimiento $( k)$ e $I(t)$ es la tasa de infiltración en el tiempo.\n"
      ],
      "metadata": {
        "id": "mGlEx7Xpfpwu"
      }
    },
    {
      "cell_type": "code",
      "source": [
        "# prompt: por favor crea código de Python donde utilices \"ecuación de infiltración de Horton\", no utilices funciones del usuario\n",
        "\n",
        "# Definir los parámetros de la ecuación de infiltración de Horton\n",
        "f_c = 0.5  # Tasa de infiltración constante (cm/h)\n",
        "f_0 = 2.0  # Tasa de infiltración inicial (cm/h)\n",
        "k = 0.5   # Constante de decaimiento (1/h)\n",
        "\n",
        "# Crear una lista de tiempos para calcular la tasa de infiltración\n",
        "tiempo = [0, 1, 2, 3, 4, 5, 6, 7, 8, 9, 10]  # Tiempo en horas\n",
        "\n",
        "# Calcular la tasa de infiltración para cada tiempo\n",
        "tasa_infiltracion = []\n",
        "for t in tiempo:\n",
        "  I_t = f_c + (f_0 - f_c) * (2.71828 ** (-k * t))\n",
        "  tasa_infiltracion.append(I_t)\n",
        "\n",
        "# Imprimir los resultados\n",
        "print(\"Tiempo (h) | Tasa de Infiltración (cm/h)\")\n",
        "print(\"-------------------------------------\")\n",
        "for i in range(len(tiempo)):\n",
        "  print(f\"{tiempo[i]:<10} | {tasa_infiltracion[i]:<20.2f}\")\n"
      ],
      "metadata": {
        "colab": {
          "base_uri": "https://localhost:8080/"
        },
        "id": "tnifjIT1f61Z",
        "outputId": "1a61c468-b5f2-47a8-ecf1-7f0b2dd3e96d"
      },
      "execution_count": 1,
      "outputs": [
        {
          "output_type": "stream",
          "name": "stdout",
          "text": [
            "Tiempo (h) | Tasa de Infiltración (cm/h)\n",
            "-------------------------------------\n",
            "0          | 2.00                \n",
            "1          | 1.41                \n",
            "2          | 1.05                \n",
            "3          | 0.83                \n",
            "4          | 0.70                \n",
            "5          | 0.62                \n",
            "6          | 0.57                \n",
            "7          | 0.55                \n",
            "8          | 0.53                \n",
            "9          | 0.52                \n",
            "10         | 0.51                \n"
          ]
        }
      ]
    },
    {
      "cell_type": "code",
      "source": [
        "import numpy as np\n",
        "from scipy.optimize import fsolve\n",
        "\n",
        "def horton_infiltration(fc, f0, k, t):\n",
        "    return fc + (f0 - fc) * np.exp(-k * t)\n",
        "\n",
        "# Example usage:\n",
        "fc = 0.1  # constant infiltration rate\n",
        "f0 = 1.0  # initial infiltration rate\n",
        "k = 0.5  # decay constant\n",
        "t = np.linspace(0, 10, 100)  # time array\n",
        "\n",
        "I = horton_infiltration(fc, f0, k, t)\n",
        "print(I)\n"
      ],
      "metadata": {
        "colab": {
          "base_uri": "https://localhost:8080/"
        },
        "id": "TmK17LFUgT3f",
        "outputId": "afa58875-4b0c-4240-e1cc-4b9f1f04667b"
      },
      "execution_count": 2,
      "outputs": [
        {
          "output_type": "stream",
          "name": "stdout",
          "text": [
            "[1.         0.95567421 0.91353151 0.87346437 0.83537058 0.79915294\n",
            " 0.76471904 0.73198105 0.70085543 0.67126278 0.64312759 0.61637808\n",
            " 0.59094601 0.56676649 0.54377783 0.52192139 0.50114139 0.48138482\n",
            " 0.46260129 0.44474286 0.42776397 0.41162131 0.39627369 0.38168195\n",
            " 0.36780887 0.35461905 0.34207884 0.33015624 0.31882085 0.30804373\n",
            " 0.29779739 0.2880557  0.27879379 0.26998804 0.26161598 0.25365625\n",
            " 0.24608855 0.23889356 0.23205293 0.22554921 0.2193658  0.21348693\n",
            " 0.2078976  0.20258355 0.19753122 0.19272772 0.1881608  0.18381881\n",
            " 0.17969066 0.17576582 0.17203429 0.16848654 0.16511352 0.16190662\n",
            " 0.15885766 0.15595887 0.15320285 0.15058256 0.14809133 0.14572279\n",
            " 0.1434709  0.14132992 0.13929438 0.1373591  0.13551913 0.13376979\n",
            " 0.13210659 0.13052532 0.12902192 0.12759256 0.12623361 0.12494158\n",
            " 0.12371318 0.12254529 0.12143491 0.12037922 0.11937553 0.11842127\n",
            " 0.117514   0.11665142 0.11583133 0.11505162 0.11431032 0.11360552\n",
            " 0.11293544 0.11229835 0.11169265 0.11111678 0.11056927 0.11004872\n",
            " 0.10955381 0.10908328 0.10863592 0.10821059 0.10780621 0.10742175\n",
            " 0.10705622 0.1067087  0.10637829 0.10606415]\n"
          ]
        }
      ]
    }
  ]
}